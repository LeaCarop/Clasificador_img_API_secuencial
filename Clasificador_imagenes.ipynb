{
  "nbformat": 4,
  "nbformat_minor": 0,
  "metadata": {
    "colab": {
      "name": "Clasificador_imagenes.ipynb",
      "provenance": [],
      "collapsed_sections": [],
      "authorship_tag": "ABX9TyNfqVOymV25peA3c0d6y6KI",
      "include_colab_link": true
    },
    "kernelspec": {
      "name": "python3",
      "display_name": "Python 3"
    },
    "language_info": {
      "name": "python"
    },
    "accelerator": "GPU"
  },
  "cells": [
    {
      "cell_type": "markdown",
      "metadata": {
        "id": "view-in-github",
        "colab_type": "text"
      },
      "source": [
        "<a href=\"https://colab.research.google.com/github/LeaCarop/Clasificador_img_API_secuencial/blob/main/Clasificador_imagenes.ipynb\" target=\"_parent\"><img src=\"https://colab.research.google.com/assets/colab-badge.svg\" alt=\"Open In Colab\"/></a>"
      ]
    },
    {
      "cell_type": "markdown",
      "source": [
        "## **CLASIFICADOR DE IMÁGENES USANDO LA API SECUENCIAL**\n",
        "### Conjunto de prueba para uso de Keras"
      ],
      "metadata": {
        "id": "DHE3B9HJb00m"
      }
    },
    {
      "cell_type": "code",
      "execution_count": 43,
      "metadata": {
        "colab": {
          "base_uri": "https://localhost:8080/",
          "height": 36
        },
        "id": "byAhNyUfUKGC",
        "outputId": "3d0080a1-6624-4351-a395-24aaf3574209"
      },
      "outputs": [
        {
          "output_type": "execute_result",
          "data": {
            "text/plain": [
              "'2.8.0'"
            ],
            "application/vnd.google.colaboratory.intrinsic+json": {
              "type": "string"
            }
          },
          "metadata": {},
          "execution_count": 43
        }
      ],
      "source": [
        "import tensorflow as tf\n",
        "from tensorflow import keras\n",
        "\n",
        "tf.__version__"
      ]
    },
    {
      "cell_type": "code",
      "source": [
        "# Dataset fashion_mnistd\n",
        "fashion_mnist = keras.datasets.fashion_mnist\n",
        "(x_train_full, y_train_full), (x_test, y_test) = fashion_mnist.load_data()"
      ],
      "metadata": {
        "id": "K-hxjtCDUyeP"
      },
      "execution_count": 44,
      "outputs": []
    },
    {
      "cell_type": "code",
      "source": [
        "x_train_full.shape # dimensiones de x: 60.000 imágenes de 28x28 píxeles cada una"
      ],
      "metadata": {
        "colab": {
          "base_uri": "https://localhost:8080/"
        },
        "id": "mbMlQf-EVQI1",
        "outputId": "ef619a77-7d0f-4f6d-ca11-f7ee8d7677ff"
      },
      "execution_count": 45,
      "outputs": [
        {
          "output_type": "execute_result",
          "data": {
            "text/plain": [
              "(60000, 28, 28)"
            ]
          },
          "metadata": {},
          "execution_count": 45
        }
      ]
    },
    {
      "cell_type": "code",
      "source": [
        "y_train_full.dtype"
      ],
      "metadata": {
        "colab": {
          "base_uri": "https://localhost:8080/"
        },
        "id": "ZZoNiDn9Vxen",
        "outputId": "e8bce839-8590-4454-db92-03eb362f20fe"
      },
      "execution_count": 46,
      "outputs": [
        {
          "output_type": "execute_result",
          "data": {
            "text/plain": [
              "dtype('uint8')"
            ]
          },
          "metadata": {},
          "execution_count": 46
        }
      ]
    },
    {
      "cell_type": "markdown",
      "source": [
        "Creo un conjunto de validación y escalo la intensidad de los píxeles hasta el rango 0-1 ya que voy a entrenar la red con descenso de gradiente."
      ],
      "metadata": {
        "id": "0UkH3m4iXD0l"
      }
    },
    {
      "cell_type": "code",
      "source": [
        "x_valid, x_train = x_train_full[:5000]/255.0, x_train_full[5000:]/255.0    # conjunto de 5.000 imágenes para validación\n",
        "y_valid, y_train = y_train_full[:5000], y_train_full[5000:]"
      ],
      "metadata": {
        "id": "nLKAAp4tWEfw"
      },
      "execution_count": 47,
      "outputs": []
    },
    {
      "cell_type": "code",
      "source": [
        "class_names = [\"T-shirt/top\", \"Trouser\", \"Pullover\", \"Dress\", \"Coat\",\n",
        "               \"Sandal\", \"Shirt\", \"Sneaker\", \"Bag\", \"Ankle boot\"]   # lista de clases que hay en el dataset"
      ],
      "metadata": {
        "id": "J70vMHHUXm4A"
      },
      "execution_count": 48,
      "outputs": []
    },
    {
      "cell_type": "code",
      "source": [
        "class_names[y_train[5]]   # tipo de clase que es la imagen 5"
      ],
      "metadata": {
        "colab": {
          "base_uri": "https://localhost:8080/",
          "height": 36
        },
        "id": "HoiREH2hahIb",
        "outputId": "6217897b-fe28-42b3-a9e0-6ff7e87b761f"
      },
      "execution_count": 49,
      "outputs": [
        {
          "output_type": "execute_result",
          "data": {
            "text/plain": [
              "'Ankle boot'"
            ],
            "application/vnd.google.colaboratory.intrinsic+json": {
              "type": "string"
            }
          },
          "metadata": {},
          "execution_count": 49
        }
      ]
    },
    {
      "cell_type": "markdown",
      "source": [
        " ### CREAR MODELO"
      ],
      "metadata": {
        "id": "SzILt9z8cdzU"
      }
    },
    {
      "cell_type": "code",
      "source": [
        "model = keras.models.Sequential([\n",
        "                                 keras.layers.Flatten(input_shape = [28, 28]), # flatten aplana la imágen, pasa de 2D a 1D\n",
        "                                 keras.layers.Dense(300, activation=\"relu\"),\n",
        "                                 keras.layers.Dense(100, activation=\"relu\"),\n",
        "                                 keras.layers.Dense(10, activation=\"softmax\")  # activación softmax en la capa de salida porque es un problema multiclase\n",
        "]) \n"
      ],
      "metadata": {
        "id": "1y1JrOiNa-XX"
      },
      "execution_count": 50,
      "outputs": []
    },
    {
      "cell_type": "code",
      "source": [
        "model.summary()  # muestra todas las capas y el # de parámetros"
      ],
      "metadata": {
        "colab": {
          "base_uri": "https://localhost:8080/"
        },
        "id": "xS6do8_xfEvr",
        "outputId": "6a2d4406-3dd3-4ab4-879d-42153405ae71"
      },
      "execution_count": 51,
      "outputs": [
        {
          "output_type": "stream",
          "name": "stdout",
          "text": [
            "Model: \"sequential_1\"\n",
            "_________________________________________________________________\n",
            " Layer (type)                Output Shape              Param #   \n",
            "=================================================================\n",
            " flatten_1 (Flatten)         (None, 784)               0         \n",
            "                                                                 \n",
            " dense_3 (Dense)             (None, 300)               235500    \n",
            "                                                                 \n",
            " dense_4 (Dense)             (None, 100)               30100     \n",
            "                                                                 \n",
            " dense_5 (Dense)             (None, 10)                1010      \n",
            "                                                                 \n",
            "=================================================================\n",
            "Total params: 266,610\n",
            "Trainable params: 266,610\n",
            "Non-trainable params: 0\n",
            "_________________________________________________________________\n"
          ]
        }
      ]
    },
    {
      "cell_type": "markdown",
      "source": [
        "* Capa dense ---> 784*300 pesos de conexión + 300 de sesgo = 235.500\n",
        "* Capa dense_1 ---> 300*100 pesos de conexión + 100 de sesgo = 30.100\n",
        "* Capa dense_2 ---> 100*10 pesos de conexión + 10 de sesgo = 1.010 parámetros.\n",
        "\n",
        "### COMPILAR MODELO"
      ],
      "metadata": {
        "id": "4wCFcZh8fs3G"
      }
    },
    {
      "cell_type": "code",
      "source": [
        "model.compile(loss=\"sparse_categorical_crossentropy\",  # usamos números entreros en las etiquetas de 0 a 9\n",
        "              optimizer = keras.optimizers.SGD(lr=0.01),  # el optimizador utilizado es el descenso de gradiente estocático\n",
        "              metrics = [\"accuracy\"])   # para medir la exactitud del modelo"
      ],
      "metadata": {
        "colab": {
          "base_uri": "https://localhost:8080/"
        },
        "id": "FHHfcjPbiKEH",
        "outputId": "3b58dc0b-deda-4244-bbc6-f148bfc555ab"
      },
      "execution_count": 52,
      "outputs": [
        {
          "output_type": "stream",
          "name": "stderr",
          "text": [
            "/usr/local/lib/python3.7/dist-packages/keras/optimizer_v2/gradient_descent.py:102: UserWarning: The `lr` argument is deprecated, use `learning_rate` instead.\n",
            "  super(SGD, self).__init__(name, **kwargs)\n"
          ]
        }
      ]
    },
    {
      "cell_type": "markdown",
      "source": [
        "### ENTRENAMIENTO Y EVALUACIÓN DEL MODELO"
      ],
      "metadata": {
        "id": "kdZaWjeVkk1K"
      }
    },
    {
      "cell_type": "code",
      "source": [
        "history = model.fit(x_train, y_train, epochs=35,\n",
        "                    validation_data = (x_valid, y_valid))"
      ],
      "metadata": {
        "colab": {
          "base_uri": "https://localhost:8080/"
        },
        "id": "1dlUm825kp7U",
        "outputId": "3ce42083-cd9c-4483-af1a-425826148bc1"
      },
      "execution_count": 53,
      "outputs": [
        {
          "output_type": "stream",
          "name": "stdout",
          "text": [
            "Epoch 1/35\n",
            "1719/1719 [==============================] - 7s 4ms/step - loss: 0.7176 - accuracy: 0.7637 - val_loss: 0.5293 - val_accuracy: 0.8226\n",
            "Epoch 2/35\n",
            "1719/1719 [==============================] - 7s 4ms/step - loss: 0.4877 - accuracy: 0.8297 - val_loss: 0.4499 - val_accuracy: 0.8452\n",
            "Epoch 3/35\n",
            "1719/1719 [==============================] - 7s 4ms/step - loss: 0.4437 - accuracy: 0.8439 - val_loss: 0.4134 - val_accuracy: 0.8584\n",
            "Epoch 4/35\n",
            "1719/1719 [==============================] - 7s 4ms/step - loss: 0.4164 - accuracy: 0.8541 - val_loss: 0.3940 - val_accuracy: 0.8674\n",
            "Epoch 5/35\n",
            "1719/1719 [==============================] - 6s 4ms/step - loss: 0.3958 - accuracy: 0.8605 - val_loss: 0.3886 - val_accuracy: 0.8664\n",
            "Epoch 6/35\n",
            "1719/1719 [==============================] - 7s 4ms/step - loss: 0.3778 - accuracy: 0.8658 - val_loss: 0.3897 - val_accuracy: 0.8668\n",
            "Epoch 7/35\n",
            "1719/1719 [==============================] - 7s 4ms/step - loss: 0.3646 - accuracy: 0.8709 - val_loss: 0.3665 - val_accuracy: 0.8684\n",
            "Epoch 8/35\n",
            "1719/1719 [==============================] - 7s 4ms/step - loss: 0.3530 - accuracy: 0.8752 - val_loss: 0.3718 - val_accuracy: 0.8730\n",
            "Epoch 9/35\n",
            "1719/1719 [==============================] - 6s 4ms/step - loss: 0.3434 - accuracy: 0.8786 - val_loss: 0.3641 - val_accuracy: 0.8728\n",
            "Epoch 10/35\n",
            "1719/1719 [==============================] - 6s 4ms/step - loss: 0.3333 - accuracy: 0.8813 - val_loss: 0.3396 - val_accuracy: 0.8826\n",
            "Epoch 11/35\n",
            "1719/1719 [==============================] - 7s 4ms/step - loss: 0.3255 - accuracy: 0.8837 - val_loss: 0.3896 - val_accuracy: 0.8644\n",
            "Epoch 12/35\n",
            "1719/1719 [==============================] - 6s 4ms/step - loss: 0.3174 - accuracy: 0.8865 - val_loss: 0.3431 - val_accuracy: 0.8786\n",
            "Epoch 13/35\n",
            "1719/1719 [==============================] - 8s 5ms/step - loss: 0.3104 - accuracy: 0.8891 - val_loss: 0.3362 - val_accuracy: 0.8764\n",
            "Epoch 14/35\n",
            "1719/1719 [==============================] - 8s 4ms/step - loss: 0.3036 - accuracy: 0.8911 - val_loss: 0.3184 - val_accuracy: 0.8870\n",
            "Epoch 15/35\n",
            "1719/1719 [==============================] - 7s 4ms/step - loss: 0.2970 - accuracy: 0.8938 - val_loss: 0.3349 - val_accuracy: 0.8774\n",
            "Epoch 16/35\n",
            "1719/1719 [==============================] - 7s 4ms/step - loss: 0.2912 - accuracy: 0.8959 - val_loss: 0.3324 - val_accuracy: 0.8816\n",
            "Epoch 17/35\n",
            "1719/1719 [==============================] - 7s 4ms/step - loss: 0.2853 - accuracy: 0.8979 - val_loss: 0.3219 - val_accuracy: 0.8824\n",
            "Epoch 18/35\n",
            "1719/1719 [==============================] - 7s 4ms/step - loss: 0.2796 - accuracy: 0.8996 - val_loss: 0.3370 - val_accuracy: 0.8804\n",
            "Epoch 19/35\n",
            "1719/1719 [==============================] - 6s 4ms/step - loss: 0.2752 - accuracy: 0.9011 - val_loss: 0.3141 - val_accuracy: 0.8848\n",
            "Epoch 20/35\n",
            "1719/1719 [==============================] - 6s 4ms/step - loss: 0.2694 - accuracy: 0.9033 - val_loss: 0.3090 - val_accuracy: 0.8912\n",
            "Epoch 21/35\n",
            "1719/1719 [==============================] - 7s 4ms/step - loss: 0.2653 - accuracy: 0.9043 - val_loss: 0.3089 - val_accuracy: 0.8870\n",
            "Epoch 22/35\n",
            "1719/1719 [==============================] - 6s 4ms/step - loss: 0.2604 - accuracy: 0.9068 - val_loss: 0.3070 - val_accuracy: 0.8894\n",
            "Epoch 23/35\n",
            "1719/1719 [==============================] - 6s 4ms/step - loss: 0.2559 - accuracy: 0.9070 - val_loss: 0.2987 - val_accuracy: 0.8912\n",
            "Epoch 24/35\n",
            "1719/1719 [==============================] - 6s 4ms/step - loss: 0.2506 - accuracy: 0.9095 - val_loss: 0.3141 - val_accuracy: 0.8900\n",
            "Epoch 25/35\n",
            "1719/1719 [==============================] - 7s 4ms/step - loss: 0.2469 - accuracy: 0.9111 - val_loss: 0.3013 - val_accuracy: 0.8906\n",
            "Epoch 26/35\n",
            "1719/1719 [==============================] - 6s 4ms/step - loss: 0.2427 - accuracy: 0.9127 - val_loss: 0.3052 - val_accuracy: 0.8908\n",
            "Epoch 27/35\n",
            "1719/1719 [==============================] - 6s 4ms/step - loss: 0.2389 - accuracy: 0.9144 - val_loss: 0.3018 - val_accuracy: 0.8910\n",
            "Epoch 28/35\n",
            "1719/1719 [==============================] - 6s 4ms/step - loss: 0.2342 - accuracy: 0.9156 - val_loss: 0.3182 - val_accuracy: 0.8826\n",
            "Epoch 29/35\n",
            "1719/1719 [==============================] - 6s 4ms/step - loss: 0.2305 - accuracy: 0.9168 - val_loss: 0.3124 - val_accuracy: 0.8870\n",
            "Epoch 30/35\n",
            "1719/1719 [==============================] - 7s 4ms/step - loss: 0.2270 - accuracy: 0.9182 - val_loss: 0.2927 - val_accuracy: 0.8954\n",
            "Epoch 31/35\n",
            "1719/1719 [==============================] - 6s 4ms/step - loss: 0.2217 - accuracy: 0.9203 - val_loss: 0.2980 - val_accuracy: 0.8940\n",
            "Epoch 32/35\n",
            "1719/1719 [==============================] - 6s 4ms/step - loss: 0.2193 - accuracy: 0.9199 - val_loss: 0.3117 - val_accuracy: 0.8898\n",
            "Epoch 33/35\n",
            "1719/1719 [==============================] - 6s 4ms/step - loss: 0.2163 - accuracy: 0.9231 - val_loss: 0.2970 - val_accuracy: 0.8936\n",
            "Epoch 34/35\n",
            "1719/1719 [==============================] - 6s 4ms/step - loss: 0.2120 - accuracy: 0.9244 - val_loss: 0.3017 - val_accuracy: 0.8912\n",
            "Epoch 35/35\n",
            "1719/1719 [==============================] - 6s 4ms/step - loss: 0.2091 - accuracy: 0.9253 - val_loss: 0.3182 - val_accuracy: 0.8860\n"
          ]
        }
      ]
    },
    {
      "cell_type": "markdown",
      "source": [
        "No aparece haber mucho sobreajuste en el modelo, la exactitud en validación es de 88,60% tras 30 repeticiones, mientras que la eaxctitud en entrenamiento es de 92,53%.\n",
        "\n",
        "No obstante, por probar, voy a reemplazar el parámetro validation_data por validation_split indicando un 10% para que Keras use el último 10% de los datos antes de mezclaros para validar."
      ],
      "metadata": {
        "id": "yH4DIOfymb1c"
      }
    },
    {
      "cell_type": "code",
      "source": [
        "history1 = model.fit(x_train, y_train, epochs=30,\n",
        "                    validation_split = 0.1)"
      ],
      "metadata": {
        "colab": {
          "base_uri": "https://localhost:8080/"
        },
        "id": "jCULai-HnLst",
        "outputId": "0733342b-944c-43ce-c9b3-57665dd56efc"
      },
      "execution_count": 55,
      "outputs": [
        {
          "output_type": "stream",
          "name": "stdout",
          "text": [
            "Epoch 1/30\n",
            "1547/1547 [==============================] - 6s 4ms/step - loss: 0.2054 - accuracy: 0.9271 - val_loss: 0.2069 - val_accuracy: 0.9216\n",
            "Epoch 2/30\n",
            "1547/1547 [==============================] - 6s 4ms/step - loss: 0.2020 - accuracy: 0.9286 - val_loss: 0.2045 - val_accuracy: 0.9262\n",
            "Epoch 3/30\n",
            "1547/1547 [==============================] - 6s 4ms/step - loss: 0.1973 - accuracy: 0.9303 - val_loss: 0.2233 - val_accuracy: 0.9147\n",
            "Epoch 4/30\n",
            "1547/1547 [==============================] - 6s 4ms/step - loss: 0.1958 - accuracy: 0.9300 - val_loss: 0.2225 - val_accuracy: 0.9182\n",
            "Epoch 5/30\n",
            "1547/1547 [==============================] - 6s 4ms/step - loss: 0.1912 - accuracy: 0.9322 - val_loss: 0.2131 - val_accuracy: 0.9213\n",
            "Epoch 6/30\n",
            "1547/1547 [==============================] - 6s 4ms/step - loss: 0.1876 - accuracy: 0.9324 - val_loss: 0.2232 - val_accuracy: 0.9175\n",
            "Epoch 7/30\n",
            "1547/1547 [==============================] - 6s 4ms/step - loss: 0.1849 - accuracy: 0.9342 - val_loss: 0.2170 - val_accuracy: 0.9184\n",
            "Epoch 8/30\n",
            "1547/1547 [==============================] - 6s 4ms/step - loss: 0.1815 - accuracy: 0.9351 - val_loss: 0.2116 - val_accuracy: 0.9209\n",
            "Epoch 9/30\n",
            "1547/1547 [==============================] - 6s 4ms/step - loss: 0.1797 - accuracy: 0.9362 - val_loss: 0.2250 - val_accuracy: 0.9180\n",
            "Epoch 10/30\n",
            "1547/1547 [==============================] - 6s 4ms/step - loss: 0.1766 - accuracy: 0.9382 - val_loss: 0.2177 - val_accuracy: 0.9191\n",
            "Epoch 11/30\n",
            "1547/1547 [==============================] - 6s 4ms/step - loss: 0.1733 - accuracy: 0.9383 - val_loss: 0.2154 - val_accuracy: 0.9215\n",
            "Epoch 12/30\n",
            "1547/1547 [==============================] - 6s 4ms/step - loss: 0.1705 - accuracy: 0.9401 - val_loss: 0.2218 - val_accuracy: 0.9162\n",
            "Epoch 13/30\n",
            "1547/1547 [==============================] - 6s 4ms/step - loss: 0.1679 - accuracy: 0.9408 - val_loss: 0.2297 - val_accuracy: 0.9151\n",
            "Epoch 14/30\n",
            "1547/1547 [==============================] - 6s 4ms/step - loss: 0.1646 - accuracy: 0.9419 - val_loss: 0.2362 - val_accuracy: 0.9151\n",
            "Epoch 15/30\n",
            "1547/1547 [==============================] - 6s 4ms/step - loss: 0.1634 - accuracy: 0.9421 - val_loss: 0.2432 - val_accuracy: 0.9100\n",
            "Epoch 16/30\n",
            "1547/1547 [==============================] - 6s 4ms/step - loss: 0.1592 - accuracy: 0.9446 - val_loss: 0.2601 - val_accuracy: 0.9040\n",
            "Epoch 17/30\n",
            "1547/1547 [==============================] - 6s 4ms/step - loss: 0.1563 - accuracy: 0.9445 - val_loss: 0.2219 - val_accuracy: 0.9153\n",
            "Epoch 18/30\n",
            "1547/1547 [==============================] - 6s 4ms/step - loss: 0.1540 - accuracy: 0.9453 - val_loss: 0.2289 - val_accuracy: 0.9156\n",
            "Epoch 19/30\n",
            "1547/1547 [==============================] - 6s 4ms/step - loss: 0.1508 - accuracy: 0.9467 - val_loss: 0.2263 - val_accuracy: 0.9180\n",
            "Epoch 20/30\n",
            "1547/1547 [==============================] - 6s 4ms/step - loss: 0.1487 - accuracy: 0.9481 - val_loss: 0.2347 - val_accuracy: 0.9116\n",
            "Epoch 21/30\n",
            "1547/1547 [==============================] - 6s 4ms/step - loss: 0.1479 - accuracy: 0.9483 - val_loss: 0.2282 - val_accuracy: 0.9165\n",
            "Epoch 22/30\n",
            "1547/1547 [==============================] - 6s 4ms/step - loss: 0.1441 - accuracy: 0.9490 - val_loss: 0.2433 - val_accuracy: 0.9144\n",
            "Epoch 23/30\n",
            "1547/1547 [==============================] - 6s 4ms/step - loss: 0.1427 - accuracy: 0.9506 - val_loss: 0.2336 - val_accuracy: 0.9096\n",
            "Epoch 24/30\n",
            "1547/1547 [==============================] - 6s 4ms/step - loss: 0.1384 - accuracy: 0.9515 - val_loss: 0.2431 - val_accuracy: 0.9124\n",
            "Epoch 25/30\n",
            "1547/1547 [==============================] - 6s 4ms/step - loss: 0.1374 - accuracy: 0.9525 - val_loss: 0.2561 - val_accuracy: 0.9056\n",
            "Epoch 26/30\n",
            "1547/1547 [==============================] - 6s 4ms/step - loss: 0.1357 - accuracy: 0.9527 - val_loss: 0.2544 - val_accuracy: 0.9093\n",
            "Epoch 27/30\n",
            "1547/1547 [==============================] - 6s 4ms/step - loss: 0.1333 - accuracy: 0.9530 - val_loss: 0.2368 - val_accuracy: 0.9164\n",
            "Epoch 28/30\n",
            "1547/1547 [==============================] - 6s 4ms/step - loss: 0.1322 - accuracy: 0.9536 - val_loss: 0.2418 - val_accuracy: 0.9116\n",
            "Epoch 29/30\n",
            "1547/1547 [==============================] - 6s 4ms/step - loss: 0.1283 - accuracy: 0.9551 - val_loss: 0.2540 - val_accuracy: 0.9120\n",
            "Epoch 30/30\n",
            "1547/1547 [==============================] - 6s 4ms/step - loss: 0.1255 - accuracy: 0.9556 - val_loss: 0.2432 - val_accuracy: 0.9111\n"
          ]
        }
      ]
    },
    {
      "cell_type": "markdown",
      "source": [
        "El resultado obtenido al cambiar el argumento de validación ha sido positivo a primera vista. Consiguiendo un aumento de la exactitud en validación de casi 2% con respecto al anterior entrenamiento (val_accuracy = 0.9111)."
      ],
      "metadata": {
        "id": "Pixpqt94oTWn"
      }
    },
    {
      "cell_type": "code",
      "source": [
        "# history.epoch\n",
        "# history.params\n",
        "# history.history"
      ],
      "metadata": {
        "id": "DtSwJjNQpODy"
      },
      "execution_count": 32,
      "outputs": []
    },
    {
      "cell_type": "code",
      "source": [
        "import pandas as pd\n",
        "import matplotlib.pyplot as plt\n",
        "\n",
        "pd.DataFrame(history.history).plot(figsize=(8, 5))\n",
        "plt.grid(True)\n",
        "plt.gca().set_ylim(0, 1) # rango vertical\n",
        "plt.show"
      ],
      "metadata": {
        "colab": {
          "base_uri": "https://localhost:8080/",
          "height": 342
        },
        "id": "QMdI3ojA8Eqo",
        "outputId": "f5ff9499-5b43-4fc3-9e6b-1785d622e698"
      },
      "execution_count": 57,
      "outputs": [
        {
          "output_type": "execute_result",
          "data": {
            "text/plain": [
              "<function matplotlib.pyplot.show>"
            ]
          },
          "metadata": {},
          "execution_count": 57
        },
        {
          "output_type": "display_data",
          "data": {
            "text/plain": [
              "<Figure size 576x360 with 1 Axes>"
            ],
            "image/png": "[encoded data removed]"
          },
          "metadata": {
            "needs_background": "light"
          }
        }
      ]
    },
    {
      "cell_type": "markdown",
      "source": [
        "Al trazar la curva de entrenamiento se observa un poco de overfitting. Daso que ahora solo estoy probando Keras no voy a realizar cambio en los hiperparámetros. "
      ],
      "metadata": {
        "id": "XkprzEWXFlU4"
      }
    },
    {
      "cell_type": "code",
      "source": [
        "model.evaluate(x_test, y_test)   # evaluar el modelo con el conjunto de prueba"
      ],
      "metadata": {
        "colab": {
          "base_uri": "https://localhost:8080/"
        },
        "id": "cl3C6-e0CS1u",
        "outputId": "94b2b3dd-d49c-452f-f9a1-9f219d9c226e"
      },
      "execution_count": 58,
      "outputs": [
        {
          "output_type": "stream",
          "name": "stdout",
          "text": [
            "313/313 [==============================] - 1s 4ms/step - loss: 89.5002 - accuracy: 0.8415\n"
          ]
        },
        {
          "output_type": "execute_result",
          "data": {
            "text/plain": [
              "[89.50021362304688, 0.8414999842643738]"
            ]
          },
          "metadata": {},
          "execution_count": 58
        }
      ]
    },
    {
      "cell_type": "markdown",
      "source": [
        "Al evaluar el modelo con el conjunto de prueba se obtiene un rendimiento ligeramiento inferior al obtenido en entrenamiento, lo que es habitual que sea así, ya que los hiperparámetros están ajustados com el cojunto de train y no de test. \n",
        "No se deben ajustar hiperparámetros en test porque la estimación del error no será real.\n",
        "\n",
        "### HACER PREDICCIONES\n",
        "\n",
        "Puedo usar el método predict() para hacer predicciones en el caso de haber instancias nuevas, como no es el caso, probaré con algunas del conjunto de prueba. "
      ],
      "metadata": {
        "id": "K2DU8As5GLqX"
      }
    },
    {
      "cell_type": "code",
      "source": [
        "x_new = x_test[:5]\n",
        "y_prueba = model.predict(x_new)\n",
        "y_prueba.round(4) # me devuelve un array con la probabilidad calculada por clase"
      ],
      "metadata": {
        "colab": {
          "base_uri": "https://localhost:8080/"
        },
        "id": "GNI4eBOPHYXM",
        "outputId": "b3210b3f-98b9-4fb1-8cf6-eefda72f3a66"
      },
      "execution_count": 67,
      "outputs": [
        {
          "output_type": "execute_result",
          "data": {
            "text/plain": [
              "array([[0., 0., 0., 0., 0., 0., 0., 0., 0., 1.],\n",
              "       [0., 0., 1., 0., 0., 0., 0., 0., 0., 0.],\n",
              "       [0., 1., 0., 0., 0., 0., 0., 0., 0., 0.],\n",
              "       [0., 1., 0., 0., 0., 0., 0., 0., 0., 0.],\n",
              "       [0., 0., 0., 0., 0., 0., 1., 0., 0., 0.]], dtype=float32)"
            ]
          },
          "metadata": {},
          "execution_count": 67
        }
      ]
    },
    {
      "cell_type": "markdown",
      "source": [
        "El array que devuelve el código anterior se interpreta de la sigte forma:\n",
        "* Cada línea tiene 10 valores que representan las clases que van de 0 a 9\n",
        "* El array devuelve las predicciones para 5 imágenes\n",
        "* El orden de clases es: \n",
        " * T-shirt/top\n",
        " * Trouser \n",
        " * Pullover\n",
        " * Dress\n",
        " * Coat\n",
        " * Sandal\n",
        " * Shirt\n",
        " * Sneaker\n",
        " * Bag \n",
        " * Ankle boot\n",
        "\n",
        "Siguiendo este orden y, teniendo en cuenta los valores que devuelve el array, cada imágen pertenece respectivamente a la clase: \n",
        "* Ankle boot\n",
        "* Pullover\n",
        "* Trouser\n",
        "* Trouser\n",
        "* Sandal\n",
        "\n",
        "En este caso, las probabilidades son bastante claras de que es una clase en concreto, no siempre es así."
      ],
      "metadata": {
        "id": "nxNihoPoLOTC"
      }
    },
    {
      "cell_type": "code",
      "source": [
        "import numpy as np\n",
        "\n",
        "y_hat = np.argmax(model.predict(x_new), axis=-1)\n",
        "y_hat    # en vez de un array como en el código anterior me devuelve la clase de la imágen"
      ],
      "metadata": {
        "colab": {
          "base_uri": "https://localhost:8080/"
        },
        "id": "OBFs_2RKM47q",
        "outputId": "f15c5e1d-ff3f-408f-e479-453e191d53ed"
      },
      "execution_count": 73,
      "outputs": [
        {
          "output_type": "execute_result",
          "data": {
            "text/plain": [
              "array([9, 2, 1, 1, 6])"
            ]
          },
          "metadata": {},
          "execution_count": 73
        }
      ]
    },
    {
      "cell_type": "code",
      "source": [
        "np.array(class_names)[y_hat]  # coincide con lo escrito anteriormente"
      ],
      "metadata": {
        "colab": {
          "base_uri": "https://localhost:8080/"
        },
        "id": "c_TN92RuP7C3",
        "outputId": "5e9f9950-9e75-40f6-fc27-4d9f5d031cb7"
      },
      "execution_count": 74,
      "outputs": [
        {
          "output_type": "execute_result",
          "data": {
            "text/plain": [
              "array(['Ankle boot', 'Pullover', 'Trouser', 'Trouser', 'Shirt'],\n",
              "      dtype='<U11')"
            ]
          },
          "metadata": {},
          "execution_count": 74
        }
      ]
    },
    {
      "cell_type": "code",
      "source": [
        "y_new = y_test[:5]\n",
        "y_new  # pruebo si la predicción realizada es correcta. EN ESTE CASO SÍ LO ES."
      ],
      "metadata": {
        "colab": {
          "base_uri": "https://localhost:8080/"
        },
        "id": "pq6eton-QXuK",
        "outputId": "e55a84a0-ce29-4ab4-afe5-3c6138154194"
      },
      "execution_count": 75,
      "outputs": [
        {
          "output_type": "execute_result",
          "data": {
            "text/plain": [
              "array([9, 2, 1, 1, 6], dtype=uint8)"
            ]
          },
          "metadata": {},
          "execution_count": 75
        }
      ]
    },
    {
      "cell_type": "code",
      "source": [
        "# Representación de las imágenes\n",
        "plt.figure(figsize=(7.2, 2.4))\n",
        "for index, image in enumerate(x_new):\n",
        "    plt.subplot(1, 5, index + 1)\n",
        "    plt.imshow(image, cmap=\"binary\", interpolation=\"nearest\")\n",
        "    plt.axis('off')\n",
        "    plt.title(class_names[y_test[index]], fontsize=12)\n",
        "plt.subplots_adjust(wspace=0.2, hspace=0.5)\n",
        "plt.show()"
      ],
      "metadata": {
        "colab": {
          "base_uri": "https://localhost:8080/",
          "height": 116
        },
        "id": "V3bitkpaRUQW",
        "outputId": "dc147a5b-92d1-45d8-b62e-d79577547685"
      },
      "execution_count": 79,
      "outputs": [
        {
          "output_type": "display_data",
          "data": {
            "text/plain": [
              "<Figure size 518.4x172.8 with 5 Axes>"
            ],
            "image/png": "[encoded data removed]"
          },
          "metadata": {
            "needs_background": "light"
          }
        }
      ]
    }
  ]
}